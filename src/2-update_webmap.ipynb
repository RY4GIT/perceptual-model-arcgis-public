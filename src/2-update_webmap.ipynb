{
 "cells": [
  {
   "cell_type": "markdown",
   "id": "17ab89f6",
   "metadata": {},
   "source": [
    "# Create ArcGIS webmap on perceptual-model database\n",
    "\n",
    "I referred to Jessica's instruction to create this notebook https://github.com/jlembury/GEOG594-Embury/blob/master/DEMO_ArcGIS_API_Python.ipynb"
   ]
  },
  {
   "cell_type": "markdown",
   "id": "6e793c21",
   "metadata": {},
   "source": [
    "# Config"
   ]
  },
  {
   "cell_type": "code",
   "execution_count": 2,
   "id": "e7342024",
   "metadata": {},
   "outputs": [],
   "source": [
    "data_dir = f\"G:\\Shared drives\\Perceptual model review\\ForRyoko\\data\""
   ]
  },
  {
   "cell_type": "markdown",
   "id": "4d8e4271",
   "metadata": {},
   "source": [
    "## Import modules"
   ]
  },
  {
   "cell_type": "code",
   "execution_count": 6,
   "id": "22ba798c-c407-427b-9f94-de4752a43cd2",
   "metadata": {},
   "outputs": [],
   "source": [
    "import os\n",
    "import webbrowser\n",
    "import pandas as pd\n",
    "pd.options.mode.chained_assignment = None  # default='warn'\n",
    "import json\n",
    "from arcgis.gis import GIS\n",
    "from arcgis.features import FeatureLayerCollection"
   ]
  },
  {
   "cell_type": "markdown",
   "id": "463eae66",
   "metadata": {},
   "source": [
    "## Connect with ArcGIS\n",
    "Reference for authentication schemes: https://developers.arcgis.com/python/guide/working-with-different-authentication-schemes/"
   ]
  },
  {
   "attachments": {},
   "cell_type": "markdown",
   "id": "9f19dd88",
   "metadata": {},
   "source": [
    "I ended up in using User autentification with OAuth 2.0 in Reference for authentication schemes: https://developers.arcgis.com/python/guide/working-with-different-authentication-schemes/\n",
    "\n",
    "Note: log-in expires after an hour or so.\n",
    "When commands return \"Exception: A general error occurred: 'Response' object is not subscriptable\", log-in again. "
   ]
  },
  {
   "cell_type": "code",
   "execution_count": 7,
   "id": "5328c70c",
   "metadata": {},
   "outputs": [],
   "source": [
    "with open('./auth.json', 'r') as infile:\n",
    "    my_credentials = json.load(infile)\n",
    "\n",
    "gis = GIS(\"https://sdsugeo.maps.arcgis.com/\", client_id=my_credentials['client_id'])\n",
    "print(\"Successfully logged in as: \" + gis.properties.user.username)\n",
    "\n",
    "# Clear the output for security \n",
    "from IPython.display import clear_output\n",
    "clear_output(wait=False)"
   ]
  },
  {
   "cell_type": "markdown",
   "id": "bfa15a0b",
   "metadata": {},
   "source": [
    "open"
   ]
  },
  {
   "cell_type": "markdown",
   "id": "0108b7af",
   "metadata": {},
   "source": [
    "If you have ArcGIS pro, this is the most straightforward and easy connection"
   ]
  },
  {
   "attachments": {},
   "cell_type": "markdown",
   "id": "ac4e04d5",
   "metadata": {},
   "source": [
    "## Updating the existing webmap with additional data"
   ]
  },
  {
   "cell_type": "code",
   "execution_count": 8,
   "id": "0aab2bae",
   "metadata": {},
   "outputs": [],
   "source": [
    "def update_webmap(input_data, feature_layer_id, webmap_item_id):\n",
    "    try:\n",
    "        existing_item = gis.content.get(feature_layer_id)\n",
    "        print(existing_item)\n",
    "    except:\n",
    "        None\n",
    "    \n",
    "    try:\n",
    "        overwrite_layer = FeatureLayerCollection.fromitem(existing_item)\n",
    "        response = overwrite_layer.manager.overwrite(input_data)\n",
    "        print(f\"Update status: {response}\")\n",
    "    except:\n",
    "        None\n",
    "\n",
    "    webbrowser.open('https://sdsugeo.maps.arcgis.com/apps/mapviewer/index.html?layers={}'.format(feature_layer_id), new=2)\n",
    "    webbrowser.open('https://sdsugeo.maps.arcgis.com/apps/mapviewer/index.html?webmap={}'.format(webmap_item_id), new=2)\n",
    "    "
   ]
  },
  {
   "attachments": {},
   "cell_type": "markdown",
   "id": "f4c0a9d1",
   "metadata": {},
   "source": [
    "### Public version"
   ]
  },
  {
   "cell_type": "code",
   "execution_count": 9,
   "id": "a3e65aa2",
   "metadata": {},
   "outputs": [
    {
     "name": "stdout",
     "output_type": "stream",
     "text": [
      "<Item title:\"alltype_models_v1\" type:Feature Layer Collection owner:raraki8159_SDSUGeo>\n",
      "Update status: {'success': True}\n"
     ]
    }
   ],
   "source": [
    "update_webmap(\n",
    "    input_data=os.path.join(data_dir,\"giantTable_public.csv\"),\n",
    "    feature_layer_id = '91f146af61004ce799233fc30f52a783',\n",
    "    webmap_item_id = \"94bdbb06d8aa435598182f21c9ba067c\",\n",
    "        )"
   ]
  },
  {
   "cell_type": "markdown",
   "id": "b139031d",
   "metadata": {},
   "source": [
    "## Private version"
   ]
  },
  {
   "cell_type": "code",
   "execution_count": 10,
   "id": "65ef2b72",
   "metadata": {},
   "outputs": [
    {
     "name": "stdout",
     "output_type": "stream",
     "text": [
      "<Item title:\"private_dataset_v1\" type:Feature Layer Collection owner:raraki8159_SDSUGeo>\n",
      "Update status: {'success': True}\n"
     ]
    }
   ],
   "source": [
    "update_webmap(\n",
    "    input_data=os.path.join(data_dir,\"giantTable_private.csv\"),\n",
    "    feature_layer_id = '0f495168b855499dbf628920f0d74da4',\n",
    "    webmap_item_id = \"e1377980633644b088cd55b7f1d102af\",\n",
    "        )"
   ]
  }
 ],
 "metadata": {
  "kernelspec": {
   "display_name": "arcgis",
   "language": "python",
   "name": "python3"
  },
  "language_info": {
   "codemirror_mode": {
    "name": "ipython",
    "version": 3
   },
   "file_extension": ".py",
   "mimetype": "text/x-python",
   "name": "python",
   "nbconvert_exporter": "python",
   "pygments_lexer": "ipython3",
   "version": "3.9.0"
  },
  "vscode": {
   "interpreter": {
    "hash": "3140ae756112501f18b23ec79a6bbbb54e715b030c96600dfefb60d12a8f240f"
   }
  }
 },
 "nbformat": 4,
 "nbformat_minor": 5
}
